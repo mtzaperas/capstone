{
 "cells": [
  {
   "cell_type": "code",
   "execution_count": 1,
   "metadata": {
    "collapsed": true
   },
   "outputs": [],
   "source": [
    "import pandas as pd\n",
    "import numpy as np\n",
    "import matplotlib.pyplot as plt\n",
    "from collections import Counter\n",
    "from IPython.core.display import HTML"
   ]
  },
  {
   "cell_type": "code",
   "execution_count": 2,
   "metadata": {},
   "outputs": [
    {
     "name": "stderr",
     "output_type": "stream",
     "text": [
      "/home/michael/anaconda2/lib/python2.7/site-packages/IPython/core/interactiveshell.py:2717: DtypeWarning: Columns (19,20,35,46,154,155) have mixed types. Specify dtype option on import or set low_memory=False.\n",
      "  interactivity=interactivity, compiler=compiler, result=result)\n",
      "/home/michael/anaconda2/lib/python2.7/site-packages/IPython/core/interactiveshell.py:2717: DtypeWarning: Columns (31) have mixed types. Specify dtype option on import or set low_memory=False.\n",
      "  interactivity=interactivity, compiler=compiler, result=result)\n"
     ]
    }
   ],
   "source": [
    "#get \"mixed types\" error with imports. should make sure its importing correctly\n",
    "charges = pd.read_csv('data/2017/extract_public_2015_20170829132341_charges_20170101-20170829_TRAVIS.csv')\n",
    "crash = pd.read_csv('data/2017/extract_public_2015_20170829132341_crash_20170101-20170829_TRAVIS.csv')\n",
    "damages = pd.read_csv('data/2017/extract_public_2015_20170829132341_damages_20170101-20170829_TRAVIS.csv')\n",
    "endorsements = pd.read_csv('data/2017/extract_public_2015_20170829132341_endorsements_20170101-20170829_TRAVIS.csv')\n",
    "lookup = pd.read_csv('data/2017/extract_public_2015_20170829132341_lookup_20170101-20170829_TRAVIS.csv')\n",
    "person = pd.read_csv('data/2017/extract_public_2015_20170829132341_person_20170101-20170829_TRAVIS.csv')\n",
    "primaryperson = pd.read_csv('data/2017/extract_public_2015_20170829132341_primaryperson_20170101-20170829_TRAVIS.csv')\n",
    "restrictions = pd.read_csv('data/2017/extract_public_2015_20170829132341_restrictions_20170101-20170829_TRAVIS.csv')\n",
    "unit = pd.read_csv('data/2017/extract_public_2015_20170829132341_unit_20170101-20170829_TRAVIS.csv')"
   ]
  },
  {
   "cell_type": "code",
   "execution_count": 3,
   "metadata": {},
   "outputs": [
    {
     "data": {
      "text/plain": [
       "81"
      ]
     },
     "execution_count": 3,
     "metadata": {},
     "output_type": "execute_result"
    }
   ],
   "source": [
    "len(unit.columns)"
   ]
  },
  {
   "cell_type": "markdown",
   "metadata": {},
   "source": [
    "## Finding duplicate columns across sections of data"
   ]
  },
  {
   "cell_type": "code",
   "execution_count": 4,
   "metadata": {
    "collapsed": true
   },
   "outputs": [],
   "source": [
    "#Using for loops since values() method returns a list, dont want list of lists\n",
    "columns = []\n",
    "for col in charges.columns.values:\n",
    "    columns.append(col)\n",
    "for col in crash.columns.values:\n",
    "    columns.append(col)\n",
    "for col in damages.columns.values:\n",
    "    columns.append(col)\n",
    "for col in endorsements.columns.values:\n",
    "    columns.append(col)\n",
    "# lookup is a data dictionary, not actual data\n",
    "# for col in lookup.columns.values:\n",
    "#     columns.append(col)\n",
    "for col in person.columns.values:\n",
    "    columns.append(col)\n",
    "for col in primaryperson.columns.values:\n",
    "    columns.append(col)\n",
    "for col in restrictions.columns.values:\n",
    "    columns.append(col)\n",
    "for col in unit.columns.values:\n",
    "    columns.append(col)\n",
    "    \n",
    "col_count = Counter(columns)"
   ]
  },
  {
   "cell_type": "code",
   "execution_count": 5,
   "metadata": {
    "collapsed": true
   },
   "outputs": [],
   "source": [
    "dup_col = []\n",
    "for key, value in col_count.iteritems():\n",
    "    if value > 1:\n",
    "        dup_col.append(key)\n",
    "# dup_col"
   ]
  },
  {
   "cell_type": "markdown",
   "metadata": {},
   "source": [
    "## Joining each section of data"
   ]
  },
  {
   "cell_type": "code",
   "execution_count": 6,
   "metadata": {
    "collapsed": true
   },
   "outputs": [],
   "source": [
    "#investigating to make sure outer join works as expected\n",
    "dup_id = charges[charges.duplicated(subset='Crash_ID', keep=False)]['Crash_ID'].unique()\n",
    "dup2 = crash[crash.Crash_ID.duplicated()]['Crash_ID'].unique()\n",
    "dup3 = damages[damages.Crash_ID.duplicated()]['Crash_ID'].unique()"
   ]
  },
  {
   "cell_type": "code",
   "execution_count": 7,
   "metadata": {
    "collapsed": true
   },
   "outputs": [],
   "source": [
    "# combining person tables since almost identical, no more duplicate person columns\n",
    "join = pd.merge(charges, crash, how='outer', on='Crash_ID')\n",
    "join = pd.merge(join, damages, how='outer', on='Crash_ID')\n",
    "join = pd.merge(join, endorsements, how='outer', on=['Crash_ID', 'Unit_Nbr'])\n",
    "join = pd.merge(join, person, how='outer', on=['Crash_ID', 'Prsn_Nbr', 'Unit_Nbr'])\n",
    "join = pd.merge(join, primaryperson, how='outer', on=['Crash_ID', 'Prsn_Nbr', 'Unit_Nbr'])\n",
    "join = pd.merge(join, restrictions, how='outer', on=['Crash_ID', 'Unit_Nbr'])\n",
    "join = pd.merge(join, unit, how='outer', on=['Crash_ID', 'Unit_Nbr'])"
   ]
  },
  {
   "cell_type": "code",
   "execution_count": 8,
   "metadata": {},
   "outputs": [
    {
     "data": {
      "text/plain": [
       "306"
      ]
     },
     "execution_count": 8,
     "metadata": {},
     "output_type": "execute_result"
    }
   ],
   "source": [
    "170 + 77 + 27 + 6 + 32 + 3 + 3 + 2 - (17) + 3"
   ]
  },
  {
   "cell_type": "code",
   "execution_count": 9,
   "metadata": {},
   "outputs": [
    {
     "data": {
      "text/plain": [
       "311"
      ]
     },
     "execution_count": 9,
     "metadata": {},
     "output_type": "execute_result"
    }
   ],
   "source": [
    "len(join.columns)"
   ]
  },
  {
   "cell_type": "code",
   "execution_count": 10,
   "metadata": {
    "collapsed": true
   },
   "outputs": [],
   "source": [
    "# HTML(join[join.Crash_ID == dup3[0]].to_html())\n"
   ]
  },
  {
   "cell_type": "code",
   "execution_count": 11,
   "metadata": {
    "collapsed": true
   },
   "outputs": [],
   "source": [
    "mini_2017 = join.sample(n=100)\n",
    "\n",
    "# HTML(mini_2017.to_html())"
   ]
  },
  {
   "cell_type": "markdown",
   "metadata": {
    "collapsed": true
   },
   "source": [
    "## Merging complete, finding patterns in 2017"
   ]
  },
  {
   "cell_type": "markdown",
   "metadata": {},
   "source": [
    "### Seem interesting:\n",
    "- Charge\n",
    "- Crash_Sev_ID\n",
    "- Investigate_Notify_Time\n",
    "- Investigate_Notify_Meth\n",
    "- Investigate_Arrv_Time"
   ]
  },
  {
   "cell_type": "code",
   "execution_count": 12,
   "metadata": {},
   "outputs": [
    {
     "name": "stdout",
     "output_type": "stream",
     "text": [
      "Crash_ID\n",
      "Crash_Fatal_Fl\n",
      "Cmv_Involv_Fl\n",
      "Schl_Bus_Fl\n",
      "Rr_Relat_Fl\n",
      "Medical_Advisory_Fl\n",
      "Amend_Supp_Fl\n",
      "Active_School_Zone_Fl\n",
      "Crash_Date\n",
      "Crash_Time\n",
      "Case_ID\n",
      "Local_Use\n",
      "Rpt_CRIS_Cnty_ID\n",
      "Rpt_City_ID\n",
      "Rpt_Outside_City_Limit_Fl\n",
      "Thousand_Damage_Fl\n",
      "Rpt_Latitude\n",
      "Rpt_Longitude\n",
      "Rpt_Rdwy_Sys_ID\n",
      "Rpt_Hwy_Num\n",
      "Rpt_Hwy_Sfx\n",
      "Rpt_Road_Part_ID\n",
      "Rpt_Block_Num\n",
      "Rpt_Street_Pfx\n",
      "Rpt_Street_Name\n",
      "Rpt_Street_Sfx\n",
      "Private_Dr_Fl\n",
      "Toll_Road_Fl\n",
      "Crash_Speed_Limit\n",
      "Road_Constr_Zone_Fl\n",
      "Road_Constr_Zone_Wrkr_Fl\n",
      "Rpt_Street_Desc\n",
      "At_Intrsct_Fl\n",
      "Rpt_Sec_Rdwy_Sys_ID\n",
      "Rpt_Sec_Hwy_Num\n",
      "Rpt_Sec_Hwy_Sfx\n",
      "Rpt_Sec_Road_Part_ID\n",
      "Rpt_Sec_Block_Num\n",
      "Rpt_Sec_Street_Pfx\n",
      "Rpt_Sec_Street_Name\n",
      "Rpt_Sec_Street_Sfx\n",
      "Rpt_Ref_Mark_Offset_Amt\n",
      "Rpt_Ref_Mark_Dist_Uom\n",
      "Rpt_Ref_Mark_Dir\n",
      "Rpt_Ref_Mark_Nbr\n",
      "Rpt_Sec_Street_Desc\n",
      "Rpt_CrossingNumber\n",
      "Wthr_Cond_ID\n",
      "Light_Cond_ID\n",
      "Entr_Road_ID\n",
      "Road_Type_ID\n",
      "Road_Algn_ID\n",
      "Surf_Cond_ID\n",
      "Traffic_Cntl_ID\n",
      "Investigat_Notify_Time\n",
      "Investigat_Notify_Meth\n",
      "Investigat_Arrv_Time\n",
      "Report_Date\n",
      "Investigat_Comp_Fl\n",
      "ORI_Number\n",
      "Investigat_Agency_ID\n",
      "Investigat_Area_ID\n",
      "Investigat_District_ID\n",
      "Investigat_Region_ID\n",
      "Bridge_Detail_ID\n",
      "Harm_Evnt_ID\n",
      "Intrsct_Relat_ID\n",
      "FHE_Collsn_ID\n",
      "Obj_Struck_ID\n",
      "Othr_Factr_ID\n",
      "Road_Part_Adj_ID\n",
      "Road_Cls_ID\n",
      "Road_Relat_ID\n",
      "Phys_Featr_1_ID\n",
      "Phys_Featr_2_ID\n",
      "Cnty_ID\n",
      "City_ID\n",
      "Latitude\n",
      "Longitude\n",
      "Hwy_Sys\n",
      "Hwy_Nbr\n",
      "Hwy_Sfx\n",
      "Dfo\n",
      "Street_Name\n",
      "Street_Nbr\n",
      "Control\n",
      "Section\n",
      "Milepoint\n",
      "Ref_Mark_Nbr\n",
      "Ref_Mark_Displ\n",
      "Hwy_Sys_2\n",
      "Hwy_Nbr_2\n",
      "Hwy_Sfx_2\n",
      "Street_Name_2\n",
      "Street_Nbr_2\n",
      "Control_2\n",
      "Section_2\n",
      "Milepoint_2\n",
      "Txdot_Rptable_Fl\n",
      "Onsys_Fl\n",
      "Rural_Fl\n",
      "Crash_Sev_ID\n",
      "Pop_Group_ID\n",
      "Located_Fl\n",
      "Day_of_Week\n",
      "Hwy_Dsgn_Lane_ID\n",
      "Hwy_Dsgn_Hrt_ID\n",
      "Hp_Shldr_Left\n",
      "Hp_Shldr_Right\n",
      "Hp_Median_Width\n",
      "Base_Type_ID\n",
      "Nbr_Of_Lane\n",
      "Row_Width_Usual\n",
      "Roadbed_Width\n",
      "Surf_Width\n",
      "Surf_Type_ID\n",
      "Curb_Type_Left_ID\n",
      "Curb_Type_Right_ID\n",
      "Shldr_Type_Left_ID\n",
      "Shldr_Width_Left\n",
      "Shldr_Use_Left_ID\n",
      "Shldr_Type_Right_ID\n",
      "Shldr_Width_Right\n",
      "Shldr_Use_Right_ID\n",
      "Median_Type_ID\n",
      "Median_Width\n",
      "Rural_Urban_Type_ID\n",
      "Func_Sys_ID\n",
      "Adt_Curnt_Amt\n",
      "Adt_Curnt_Year\n",
      "Adt_Adj_Curnt_Amt\n",
      "Pct_Single_Trk_Adt\n",
      "Pct_Combo_Trk_Adt\n",
      "Trk_Aadt_Pct\n",
      "Curve_Type_ID\n",
      "Curve_Lngth\n",
      "Cd_Degr\n",
      "Delta_Left_Right_ID\n",
      "Dd_Degr\n",
      "Feature_Crossed\n",
      "Structure_Number\n",
      "I_R_Min_Vert_Clear\n",
      "Approach_Width\n",
      "Bridge_Median_ID\n",
      "Bridge_Loading_Type_ID\n",
      "Bridge_Loading_In_1000_Lbs\n",
      "Bridge_Srvc_Type_On_ID\n",
      "Bridge_Srvc_Type_Under_ID\n",
      "Culvert_Type_ID\n",
      "Roadway_Width\n",
      "Deck_Width\n",
      "Bridge_Dir_Of_Traffic_ID\n",
      "Bridge_Rte_Struct_Func_ID\n",
      "Bridge_IR_Struct_Func_ID\n",
      "CrossingNumber\n",
      "RRCo\n",
      "Poscrossing_ID\n",
      "WDCode_ID\n",
      "Standstop\n",
      "Yield\n",
      "Incap_Injry_Cnt\n",
      "Nonincap_Injry_Cnt\n",
      "Poss_Injry_Cnt\n",
      "Non_Injry_Cnt\n",
      "Unkn_Injry_Cnt\n",
      "Tot_Injry_Cnt\n",
      "Death_Cnt\n",
      "MPO_ID\n",
      "Investigat_Service_ID\n",
      "Investigat_DA_ID\n",
      "Investigator_Narrative\n"
     ]
    }
   ],
   "source": [
    "for i in crash.columns:\n",
    "    print i"
   ]
  },
  {
   "cell_type": "code",
   "execution_count": 13,
   "metadata": {
    "collapsed": true
   },
   "outputs": [],
   "source": [
    "injry_sevr_2017 = crash.groupby('Crash_Sev_ID').agg('count')\n",
    "injry_sevr_map = {0: 'unknown', 1: 'incapacitating', 2: 'non-incapacitating', 3: 'possible', 4: 'killed', 5: 'none'}"
   ]
  },
  {
   "cell_type": "code",
   "execution_count": 14,
   "metadata": {
    "collapsed": true
   },
   "outputs": [],
   "source": [
    "injry_sevr_2017.index = injry_sevr_2017.index.map(lambda x: injry_sevr_map[x])"
   ]
  },
  {
   "cell_type": "code",
   "execution_count": 15,
   "metadata": {},
   "outputs": [
    {
     "data": {
      "text/html": [
       "<div>\n",
       "<style>\n",
       "    .dataframe thead tr:only-child th {\n",
       "        text-align: right;\n",
       "    }\n",
       "\n",
       "    .dataframe thead th {\n",
       "        text-align: left;\n",
       "    }\n",
       "\n",
       "    .dataframe tbody tr th {\n",
       "        vertical-align: top;\n",
       "    }\n",
       "</style>\n",
       "<table border=\"1\" class=\"dataframe\">\n",
       "  <thead>\n",
       "    <tr style=\"text-align: right;\">\n",
       "      <th></th>\n",
       "      <th>Crash_ID</th>\n",
       "      <th>Crash_Fatal_Fl</th>\n",
       "      <th>Cmv_Involv_Fl</th>\n",
       "      <th>Schl_Bus_Fl</th>\n",
       "      <th>Rr_Relat_Fl</th>\n",
       "      <th>Medical_Advisory_Fl</th>\n",
       "      <th>Amend_Supp_Fl</th>\n",
       "      <th>Active_School_Zone_Fl</th>\n",
       "      <th>Crash_Date</th>\n",
       "      <th>Crash_Time</th>\n",
       "      <th>...</th>\n",
       "      <th>Nonincap_Injry_Cnt</th>\n",
       "      <th>Poss_Injry_Cnt</th>\n",
       "      <th>Non_Injry_Cnt</th>\n",
       "      <th>Unkn_Injry_Cnt</th>\n",
       "      <th>Tot_Injry_Cnt</th>\n",
       "      <th>Death_Cnt</th>\n",
       "      <th>MPO_ID</th>\n",
       "      <th>Investigat_Service_ID</th>\n",
       "      <th>Investigat_DA_ID</th>\n",
       "      <th>Investigator_Narrative</th>\n",
       "    </tr>\n",
       "    <tr>\n",
       "      <th>Crash_Sev_ID</th>\n",
       "      <th></th>\n",
       "      <th></th>\n",
       "      <th></th>\n",
       "      <th></th>\n",
       "      <th></th>\n",
       "      <th></th>\n",
       "      <th></th>\n",
       "      <th></th>\n",
       "      <th></th>\n",
       "      <th></th>\n",
       "      <th></th>\n",
       "      <th></th>\n",
       "      <th></th>\n",
       "      <th></th>\n",
       "      <th></th>\n",
       "      <th></th>\n",
       "      <th></th>\n",
       "      <th></th>\n",
       "      <th></th>\n",
       "      <th></th>\n",
       "      <th></th>\n",
       "    </tr>\n",
       "  </thead>\n",
       "  <tbody>\n",
       "    <tr>\n",
       "      <th>unknown</th>\n",
       "      <td>449</td>\n",
       "      <td>449</td>\n",
       "      <td>449</td>\n",
       "      <td>449</td>\n",
       "      <td>449</td>\n",
       "      <td>449</td>\n",
       "      <td>449</td>\n",
       "      <td>449</td>\n",
       "      <td>449</td>\n",
       "      <td>449</td>\n",
       "      <td>...</td>\n",
       "      <td>449</td>\n",
       "      <td>449</td>\n",
       "      <td>449</td>\n",
       "      <td>449</td>\n",
       "      <td>449</td>\n",
       "      <td>449</td>\n",
       "      <td>398</td>\n",
       "      <td>440</td>\n",
       "      <td>219</td>\n",
       "      <td>0</td>\n",
       "    </tr>\n",
       "    <tr>\n",
       "      <th>incapacitating</th>\n",
       "      <td>402</td>\n",
       "      <td>402</td>\n",
       "      <td>402</td>\n",
       "      <td>402</td>\n",
       "      <td>402</td>\n",
       "      <td>402</td>\n",
       "      <td>402</td>\n",
       "      <td>402</td>\n",
       "      <td>402</td>\n",
       "      <td>402</td>\n",
       "      <td>...</td>\n",
       "      <td>402</td>\n",
       "      <td>402</td>\n",
       "      <td>402</td>\n",
       "      <td>402</td>\n",
       "      <td>402</td>\n",
       "      <td>402</td>\n",
       "      <td>386</td>\n",
       "      <td>397</td>\n",
       "      <td>228</td>\n",
       "      <td>0</td>\n",
       "    </tr>\n",
       "    <tr>\n",
       "      <th>non-incapacitating</th>\n",
       "      <td>2264</td>\n",
       "      <td>2264</td>\n",
       "      <td>2264</td>\n",
       "      <td>2264</td>\n",
       "      <td>2264</td>\n",
       "      <td>2264</td>\n",
       "      <td>2264</td>\n",
       "      <td>2264</td>\n",
       "      <td>2264</td>\n",
       "      <td>2264</td>\n",
       "      <td>...</td>\n",
       "      <td>2264</td>\n",
       "      <td>2264</td>\n",
       "      <td>2264</td>\n",
       "      <td>2264</td>\n",
       "      <td>2264</td>\n",
       "      <td>2264</td>\n",
       "      <td>2133</td>\n",
       "      <td>2232</td>\n",
       "      <td>1308</td>\n",
       "      <td>0</td>\n",
       "    </tr>\n",
       "    <tr>\n",
       "      <th>possible</th>\n",
       "      <td>2473</td>\n",
       "      <td>2473</td>\n",
       "      <td>2473</td>\n",
       "      <td>2473</td>\n",
       "      <td>2473</td>\n",
       "      <td>2473</td>\n",
       "      <td>2473</td>\n",
       "      <td>2473</td>\n",
       "      <td>2473</td>\n",
       "      <td>2473</td>\n",
       "      <td>...</td>\n",
       "      <td>2473</td>\n",
       "      <td>2473</td>\n",
       "      <td>2473</td>\n",
       "      <td>2473</td>\n",
       "      <td>2473</td>\n",
       "      <td>2473</td>\n",
       "      <td>2334</td>\n",
       "      <td>2439</td>\n",
       "      <td>1373</td>\n",
       "      <td>0</td>\n",
       "    </tr>\n",
       "    <tr>\n",
       "      <th>killed</th>\n",
       "      <td>61</td>\n",
       "      <td>61</td>\n",
       "      <td>61</td>\n",
       "      <td>61</td>\n",
       "      <td>61</td>\n",
       "      <td>61</td>\n",
       "      <td>61</td>\n",
       "      <td>61</td>\n",
       "      <td>61</td>\n",
       "      <td>61</td>\n",
       "      <td>...</td>\n",
       "      <td>61</td>\n",
       "      <td>61</td>\n",
       "      <td>61</td>\n",
       "      <td>61</td>\n",
       "      <td>61</td>\n",
       "      <td>61</td>\n",
       "      <td>56</td>\n",
       "      <td>61</td>\n",
       "      <td>43</td>\n",
       "      <td>0</td>\n",
       "    </tr>\n",
       "    <tr>\n",
       "      <th>none</th>\n",
       "      <td>7458</td>\n",
       "      <td>7458</td>\n",
       "      <td>7458</td>\n",
       "      <td>7458</td>\n",
       "      <td>7458</td>\n",
       "      <td>7458</td>\n",
       "      <td>7458</td>\n",
       "      <td>7458</td>\n",
       "      <td>7458</td>\n",
       "      <td>7458</td>\n",
       "      <td>...</td>\n",
       "      <td>7458</td>\n",
       "      <td>7458</td>\n",
       "      <td>7458</td>\n",
       "      <td>7458</td>\n",
       "      <td>7458</td>\n",
       "      <td>7458</td>\n",
       "      <td>6917</td>\n",
       "      <td>7354</td>\n",
       "      <td>3876</td>\n",
       "      <td>0</td>\n",
       "    </tr>\n",
       "  </tbody>\n",
       "</table>\n",
       "<p>6 rows × 170 columns</p>\n",
       "</div>"
      ],
      "text/plain": [
       "                    Crash_ID  Crash_Fatal_Fl  Cmv_Involv_Fl  Schl_Bus_Fl  \\\n",
       "Crash_Sev_ID                                                               \n",
       "unknown                  449             449            449          449   \n",
       "incapacitating           402             402            402          402   \n",
       "non-incapacitating      2264            2264           2264         2264   \n",
       "possible                2473            2473           2473         2473   \n",
       "killed                    61              61             61           61   \n",
       "none                    7458            7458           7458         7458   \n",
       "\n",
       "                    Rr_Relat_Fl  Medical_Advisory_Fl  Amend_Supp_Fl  \\\n",
       "Crash_Sev_ID                                                          \n",
       "unknown                     449                  449            449   \n",
       "incapacitating              402                  402            402   \n",
       "non-incapacitating         2264                 2264           2264   \n",
       "possible                   2473                 2473           2473   \n",
       "killed                       61                   61             61   \n",
       "none                       7458                 7458           7458   \n",
       "\n",
       "                    Active_School_Zone_Fl  Crash_Date  Crash_Time  \\\n",
       "Crash_Sev_ID                                                        \n",
       "unknown                               449         449         449   \n",
       "incapacitating                        402         402         402   \n",
       "non-incapacitating                   2264        2264        2264   \n",
       "possible                             2473        2473        2473   \n",
       "killed                                 61          61          61   \n",
       "none                                 7458        7458        7458   \n",
       "\n",
       "                             ...            Nonincap_Injry_Cnt  \\\n",
       "Crash_Sev_ID                 ...                                 \n",
       "unknown                      ...                           449   \n",
       "incapacitating               ...                           402   \n",
       "non-incapacitating           ...                          2264   \n",
       "possible                     ...                          2473   \n",
       "killed                       ...                            61   \n",
       "none                         ...                          7458   \n",
       "\n",
       "                    Poss_Injry_Cnt  Non_Injry_Cnt  Unkn_Injry_Cnt  \\\n",
       "Crash_Sev_ID                                                        \n",
       "unknown                        449            449             449   \n",
       "incapacitating                 402            402             402   \n",
       "non-incapacitating            2264           2264            2264   \n",
       "possible                      2473           2473            2473   \n",
       "killed                          61             61              61   \n",
       "none                          7458           7458            7458   \n",
       "\n",
       "                    Tot_Injry_Cnt  Death_Cnt  MPO_ID  Investigat_Service_ID  \\\n",
       "Crash_Sev_ID                                                                  \n",
       "unknown                       449        449     398                    440   \n",
       "incapacitating                402        402     386                    397   \n",
       "non-incapacitating           2264       2264    2133                   2232   \n",
       "possible                     2473       2473    2334                   2439   \n",
       "killed                         61         61      56                     61   \n",
       "none                         7458       7458    6917                   7354   \n",
       "\n",
       "                    Investigat_DA_ID  Investigator_Narrative  \n",
       "Crash_Sev_ID                                                  \n",
       "unknown                          219                       0  \n",
       "incapacitating                   228                       0  \n",
       "non-incapacitating              1308                       0  \n",
       "possible                        1373                       0  \n",
       "killed                            43                       0  \n",
       "none                            3876                       0  \n",
       "\n",
       "[6 rows x 170 columns]"
      ]
     },
     "execution_count": 15,
     "metadata": {},
     "output_type": "execute_result"
    }
   ],
   "source": [
    "injry_sevr_2017"
   ]
  },
  {
   "cell_type": "markdown",
   "metadata": {},
   "source": [
    "What were the crashes that hurt/killed people like? What time of day, and where"
   ]
  },
  {
   "cell_type": "code",
   "execution_count": 21,
   "metadata": {
    "collapsed": true
   },
   "outputs": [],
   "source": [
    "violent_2017 = join[(join['Crash_Sev_ID'] == 1) | (join['Crash_Sev_ID'] == 4)]\n",
    "violent_2017 = violent_2017.loc[:, ('Day_of_Week', 'Crash_Date', 'Crash_Time', 'Rpt_Road_Part_ID', 'Rpt_Street_Name')]"
   ]
  },
  {
   "cell_type": "code",
   "execution_count": 22,
   "metadata": {},
   "outputs": [
    {
     "data": {
      "text/html": [
       "<div>\n",
       "<style>\n",
       "    .dataframe thead tr:only-child th {\n",
       "        text-align: right;\n",
       "    }\n",
       "\n",
       "    .dataframe thead th {\n",
       "        text-align: left;\n",
       "    }\n",
       "\n",
       "    .dataframe tbody tr th {\n",
       "        vertical-align: top;\n",
       "    }\n",
       "</style>\n",
       "<table border=\"1\" class=\"dataframe\">\n",
       "  <thead>\n",
       "    <tr style=\"text-align: right;\">\n",
       "      <th></th>\n",
       "      <th>Day_of_Week</th>\n",
       "      <th>Crash_Date</th>\n",
       "      <th>Crash_Time</th>\n",
       "      <th>Rpt_Road_Part_ID</th>\n",
       "      <th>Rpt_Street_Name</th>\n",
       "    </tr>\n",
       "  </thead>\n",
       "  <tbody>\n",
       "    <tr>\n",
       "      <th>219</th>\n",
       "      <td>SUN</td>\n",
       "      <td>01/08/2017</td>\n",
       "      <td>03:22 PM</td>\n",
       "      <td>1.0</td>\n",
       "      <td>AIRPORT</td>\n",
       "    </tr>\n",
       "    <tr>\n",
       "      <th>268</th>\n",
       "      <td>TUE</td>\n",
       "      <td>01/10/2017</td>\n",
       "      <td>05:54 AM</td>\n",
       "      <td>1.0</td>\n",
       "      <td>NOT REPORTED</td>\n",
       "    </tr>\n",
       "    <tr>\n",
       "      <th>300</th>\n",
       "      <td>TUE</td>\n",
       "      <td>01/10/2017</td>\n",
       "      <td>03:44 PM</td>\n",
       "      <td>1.0</td>\n",
       "      <td>GRACY FARMS LN</td>\n",
       "    </tr>\n",
       "    <tr>\n",
       "      <th>305</th>\n",
       "      <td>WED</td>\n",
       "      <td>01/11/2017</td>\n",
       "      <td>06:34 AM</td>\n",
       "      <td>1.0</td>\n",
       "      <td>IH 35</td>\n",
       "    </tr>\n",
       "    <tr>\n",
       "      <th>306</th>\n",
       "      <td>WED</td>\n",
       "      <td>01/11/2017</td>\n",
       "      <td>06:34 AM</td>\n",
       "      <td>1.0</td>\n",
       "      <td>IH 35</td>\n",
       "    </tr>\n",
       "  </tbody>\n",
       "</table>\n",
       "</div>"
      ],
      "text/plain": [
       "    Day_of_Week  Crash_Date Crash_Time  Rpt_Road_Part_ID Rpt_Street_Name\n",
       "219         SUN  01/08/2017   03:22 PM               1.0         AIRPORT\n",
       "268         TUE  01/10/2017   05:54 AM               1.0    NOT REPORTED\n",
       "300         TUE  01/10/2017   03:44 PM               1.0  GRACY FARMS LN\n",
       "305         WED  01/11/2017   06:34 AM               1.0           IH 35\n",
       "306         WED  01/11/2017   06:34 AM               1.0           IH 35"
      ]
     },
     "execution_count": 22,
     "metadata": {},
     "output_type": "execute_result"
    }
   ],
   "source": [
    "violent_2017.head()"
   ]
  },
  {
   "cell_type": "code",
   "execution_count": 23,
   "metadata": {},
   "outputs": [
    {
     "data": {
      "text/html": [
       "<div>\n",
       "<style>\n",
       "    .dataframe thead tr:only-child th {\n",
       "        text-align: right;\n",
       "    }\n",
       "\n",
       "    .dataframe thead th {\n",
       "        text-align: left;\n",
       "    }\n",
       "\n",
       "    .dataframe tbody tr th {\n",
       "        vertical-align: top;\n",
       "    }\n",
       "</style>\n",
       "<table border=\"1\" class=\"dataframe\">\n",
       "  <thead>\n",
       "    <tr style=\"text-align: right;\">\n",
       "      <th></th>\n",
       "      <th>Crash_Date</th>\n",
       "      <th>Crash_Time</th>\n",
       "      <th>Rpt_Road_Part_ID</th>\n",
       "      <th>Rpt_Street_Name</th>\n",
       "    </tr>\n",
       "    <tr>\n",
       "      <th>Day_of_Week</th>\n",
       "      <th></th>\n",
       "      <th></th>\n",
       "      <th></th>\n",
       "      <th></th>\n",
       "    </tr>\n",
       "  </thead>\n",
       "  <tbody>\n",
       "    <tr>\n",
       "      <th>FRI</th>\n",
       "      <td>80</td>\n",
       "      <td>80</td>\n",
       "      <td>80</td>\n",
       "      <td>80</td>\n",
       "    </tr>\n",
       "    <tr>\n",
       "      <th>MON</th>\n",
       "      <td>60</td>\n",
       "      <td>60</td>\n",
       "      <td>60</td>\n",
       "      <td>60</td>\n",
       "    </tr>\n",
       "    <tr>\n",
       "      <th>SAT</th>\n",
       "      <td>100</td>\n",
       "      <td>100</td>\n",
       "      <td>100</td>\n",
       "      <td>100</td>\n",
       "    </tr>\n",
       "    <tr>\n",
       "      <th>SUN</th>\n",
       "      <td>81</td>\n",
       "      <td>81</td>\n",
       "      <td>81</td>\n",
       "      <td>81</td>\n",
       "    </tr>\n",
       "    <tr>\n",
       "      <th>THU</th>\n",
       "      <td>67</td>\n",
       "      <td>67</td>\n",
       "      <td>67</td>\n",
       "      <td>67</td>\n",
       "    </tr>\n",
       "    <tr>\n",
       "      <th>TUE</th>\n",
       "      <td>68</td>\n",
       "      <td>68</td>\n",
       "      <td>68</td>\n",
       "      <td>68</td>\n",
       "    </tr>\n",
       "    <tr>\n",
       "      <th>WED</th>\n",
       "      <td>93</td>\n",
       "      <td>93</td>\n",
       "      <td>93</td>\n",
       "      <td>93</td>\n",
       "    </tr>\n",
       "  </tbody>\n",
       "</table>\n",
       "</div>"
      ],
      "text/plain": [
       "             Crash_Date  Crash_Time  Rpt_Road_Part_ID  Rpt_Street_Name\n",
       "Day_of_Week                                                           \n",
       "FRI                  80          80                80               80\n",
       "MON                  60          60                60               60\n",
       "SAT                 100         100               100              100\n",
       "SUN                  81          81                81               81\n",
       "THU                  67          67                67               67\n",
       "TUE                  68          68                68               68\n",
       "WED                  93          93                93               93"
      ]
     },
     "execution_count": 23,
     "metadata": {},
     "output_type": "execute_result"
    }
   ],
   "source": [
    "violent_2017.groupby('Day_of_Week').agg('count')"
   ]
  },
  {
   "cell_type": "code",
   "execution_count": 24,
   "metadata": {},
   "outputs": [
    {
     "data": {
      "text/plain": [
       "DatetimeIndex(['2017-01-01', '2017-01-03', '2017-01-04', '2017-01-05',\n",
       "               '2017-01-07', '2017-01-08', '2017-01-09', '2017-01-10',\n",
       "               '2017-01-11', '2017-01-13',\n",
       "               ...\n",
       "               '2017-08-08', '2017-08-11', '2017-08-12', '2017-08-13',\n",
       "               '2017-08-15', '2017-08-16', '2017-08-17', '2017-08-18',\n",
       "               '2017-08-19', '2017-08-21'],\n",
       "              dtype='datetime64[ns]', name=u'Crash_Date', length=205, freq=None)"
      ]
     },
     "execution_count": 24,
     "metadata": {},
     "output_type": "execute_result"
    }
   ],
   "source": [
    "violent_date_agg_2017 = violent_2017.groupby('Crash_Date').agg('count')\n",
    "pd.to_datetime(violent_date_agg_2017.index)"
   ]
  },
  {
   "cell_type": "code",
   "execution_count": 25,
   "metadata": {},
   "outputs": [
    {
     "name": "stderr",
     "output_type": "stream",
     "text": [
      "/home/michael/anaconda2/lib/python2.7/site-packages/ipykernel_launcher.py:2: FutureWarning: to_datetime is deprecated. Use pd.to_datetime(...)\n",
      "  \n"
     ]
    },
    {
     "data": {
      "text/plain": [
       "<matplotlib.figure.Figure at 0x7f018876bb90>"
      ]
     },
     "metadata": {},
     "output_type": "display_data"
    },
    {
     "data": {
      "image/png": "[encoded data removed]",
      "text/plain": [
       "<matplotlib.figure.Figure at 0x7f01886caa10>"
      ]
     },
     "metadata": {},
     "output_type": "display_data"
    }
   ],
   "source": [
    "plt.figure(figsize=(10,10))\n",
    "plt.scatter(violent_date_agg_2017.index.to_datetime().tolist(), violent_date_agg_2017['Day_of_Week'])\n",
    "plt.show()"
   ]
  },
  {
   "cell_type": "code",
   "execution_count": 26,
   "metadata": {},
   "outputs": [],
   "source": [
    "violent_weekday_agg_2017 = violent_2017.groupby('Day_of_Week').agg('count')\n"
   ]
  },
  {
   "cell_type": "code",
   "execution_count": null,
   "metadata": {
    "collapsed": true
   },
   "outputs": [],
   "source": []
  }
 ],
 "metadata": {
  "kernelspec": {
   "display_name": "Python 2",
   "language": "python",
   "name": "python2"
  },
  "language_info": {
   "codemirror_mode": {
    "name": "ipython",
    "version": 2
   },
   "file_extension": ".py",
   "mimetype": "text/x-python",
   "name": "python",
   "nbconvert_exporter": "python",
   "pygments_lexer": "ipython2",
   "version": "2.7.13"
  }
 },
 "nbformat": 4,
 "nbformat_minor": 2
}
