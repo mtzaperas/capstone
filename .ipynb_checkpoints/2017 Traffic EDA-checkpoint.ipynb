{
 "cells": [
  {
   "cell_type": "code",
   "execution_count": 129,
   "metadata": {},
   "outputs": [],
   "source": [
    "import pandas as pd\n",
    "from collections import Counter"
   ]
  },
  {
   "cell_type": "code",
   "execution_count": 153,
   "metadata": {},
   "outputs": [],
   "source": [
    "#get \"mixed types\" error with imports. should make sure its importing correctly\n",
    "left = pd.read_csv('data/2017/extract_public_2015_20170829132341_charges_20170101-20170829_TRAVIS.csv')\n",
    "right = pd.read_csv('data/2017/extract_public_2015_20170829132341_crash_20170101-20170829_TRAVIS.csv')\n",
    "right2 = pd.read_csv('data/2017/extract_public_2015_20170829132341_damages_20170101-20170829_TRAVIS.csv')\n",
    "right3 = pd.read_csv('data/2017/extract_public_2015_20170829132341_endorsements_20170101-20170829_TRAVIS.csv')\n",
    "right4 = pd.read_csv('data/2017/extract_public_2015_20170829132341_lookup_20170101-20170829_TRAVIS.csv')\n",
    "right5 = pd.read_csv('data/2017/extract_public_2015_20170829132341_person_20170101-20170829_TRAVIS.csv')\n",
    "right6 = pd.read_csv('data/2017/extract_public_2015_20170829132341_primaryperson_20170101-20170829_TRAVIS.csv')\n",
    "right7 = pd.read_csv('data/2017/extract_public_2015_20170829132341_restrictions_20170101-20170829_TRAVIS.csv')\n",
    "right8 = pd.read_csv('data/2017/extract_public_2015_20170829132341_unit_20170101-20170829_TRAVIS.csv')"
   ]
  },
  {
   "cell_type": "markdown",
   "metadata": {},
   "source": [
    "## Finding duplicate columns across sections of data"
   ]
  },
  {
   "cell_type": "code",
   "execution_count": 151,
   "metadata": {},
   "outputs": [],
   "source": [
    "#Using for loops since values() method returns a list, dont want list of lists\n",
    "columns = []\n",
    "for col in left.columns.values:\n",
    "    columns.append(col)\n",
    "for col in right.columns.values:\n",
    "    columns.append(col)\n",
    "for col in right2.columns.values:\n",
    "    columns.append(col)\n",
    "for col in right3.columns.values:\n",
    "    columns.append(col)\n",
    "for col in right4.columns.values:\n",
    "    columns.append(col)\n",
    "for col in right5.columns.values:\n",
    "    columns.append(col)\n",
    "for col in right6.columns.values:\n",
    "    columns.append(col)\n",
    "for col in right7.columns.values:\n",
    "    columns.append(col)\n",
    "for col in right8.columns.values:\n",
    "    columns.append(col)\n",
    "    \n",
    "col_count = Counter(columns)"
   ]
  },
  {
   "cell_type": "code",
   "execution_count": 152,
   "metadata": {},
   "outputs": [
    {
     "data": {
      "text/plain": [
       "['Prsn_Alc_Rslt_ID',\n",
       " 'Non_Injry_Cnt',\n",
       " 'Prsn_Drg_Rslt_ID',\n",
       " 'Prsn_Ethnicity_ID',\n",
       " 'Incap_Injry_Cnt',\n",
       " 'Prsn_Sol_Fl',\n",
       " 'Prsn_Injry_Sev_ID',\n",
       " 'Prsn_Occpnt_Pos_ID',\n",
       " 'Prsn_Bac_Test_Rslt',\n",
       " 'Prsn_Type_ID',\n",
       " 'Poss_Injry_Cnt',\n",
       " 'Prsn_Death_Time',\n",
       " 'Prsn_Ejct_ID',\n",
       " 'Death_Cnt',\n",
       " 'Prsn_Gndr_ID',\n",
       " 'Unkn_Injry_Cnt',\n",
       " 'Prsn_Airbag_ID',\n",
       " 'Prsn_Nbr',\n",
       " 'Crash_ID',\n",
       " 'Prsn_Helmet_ID',\n",
       " 'Unit_Nbr',\n",
       " 'Prsn_Alc_Spec_Type_ID',\n",
       " 'Tot_Injry_Cnt',\n",
       " 'Prsn_Drg_Spec_Type_ID',\n",
       " 'Prsn_Age',\n",
       " 'Prsn_Rest_ID',\n",
       " 'Nonincap_Injry_Cnt']"
      ]
     },
     "execution_count": 152,
     "metadata": {},
     "output_type": "execute_result"
    }
   ],
   "source": [
    "dup_col = []\n",
    "for key, value in col_count.iteritems():\n",
    "    if value > 1:\n",
    "        dup_col.append(key)\n",
    "dup_col"
   ]
  },
  {
   "cell_type": "markdown",
   "metadata": {},
   "source": [
    "## Joining each section of data"
   ]
  },
  {
   "cell_type": "code",
   "execution_count": 154,
   "metadata": {},
   "outputs": [],
   "source": [
    "#investigating to make sure outer join works as expected\n",
    "dup_id = left[left.duplicated(subset='Crash_ID', keep=False)]['Crash_ID'].unique()\n",
    "dup2 = right2[right2.Crash_ID.duplicated()]['Crash_ID'].unique()\n",
    "dup3 = right3[right3.Crash_ID.duplicated()]['Crash_ID'].unique()"
   ]
  },
  {
   "cell_type": "code",
   "execution_count": 87,
   "metadata": {},
   "outputs": [],
   "source": [
    "join = pd.merge(left, right, how='outer', on='Crash_ID')\n",
    "join = pd.merge(join, right2, how='outer', on='Crash_ID')"
   ]
  },
  {
   "cell_type": "code",
   "execution_count": 94,
   "metadata": {},
   "outputs": [
    {
     "data": {
      "text/html": [
       "<div>\n",
       "<style>\n",
       "    .dataframe thead tr:only-child th {\n",
       "        text-align: right;\n",
       "    }\n",
       "\n",
       "    .dataframe thead th {\n",
       "        text-align: left;\n",
       "    }\n",
       "\n",
       "    .dataframe tbody tr th {\n",
       "        vertical-align: top;\n",
       "    }\n",
       "</style>\n",
       "<table border=\"1\" class=\"dataframe\">\n",
       "  <thead>\n",
       "    <tr style=\"text-align: right;\">\n",
       "      <th></th>\n",
       "      <th>Crash_ID</th>\n",
       "      <th>Unit_Nbr</th>\n",
       "      <th>Drvr_Lic_Endors_ID</th>\n",
       "    </tr>\n",
       "  </thead>\n",
       "  <tbody>\n",
       "    <tr>\n",
       "      <th>0</th>\n",
       "      <td>15425782</td>\n",
       "      <td>1</td>\n",
       "      <td>96</td>\n",
       "    </tr>\n",
       "    <tr>\n",
       "      <th>1</th>\n",
       "      <td>15425782</td>\n",
       "      <td>2</td>\n",
       "      <td>96</td>\n",
       "    </tr>\n",
       "  </tbody>\n",
       "</table>\n",
       "</div>"
      ],
      "text/plain": [
       "   Crash_ID  Unit_Nbr  Drvr_Lic_Endors_ID\n",
       "0  15425782         1                  96\n",
       "1  15425782         2                  96"
      ]
     },
     "execution_count": 94,
     "metadata": {},
     "output_type": "execute_result"
    }
   ],
   "source": [
    "right3[right3.Crash_ID == dup3[0]]"
   ]
  },
  {
   "cell_type": "code",
   "execution_count": 95,
   "metadata": {},
   "outputs": [
    {
     "data": {
      "text/html": [
       "<div>\n",
       "<style>\n",
       "    .dataframe thead tr:only-child th {\n",
       "        text-align: right;\n",
       "    }\n",
       "\n",
       "    .dataframe thead th {\n",
       "        text-align: left;\n",
       "    }\n",
       "\n",
       "    .dataframe tbody tr th {\n",
       "        vertical-align: top;\n",
       "    }\n",
       "</style>\n",
       "<table border=\"1\" class=\"dataframe\">\n",
       "  <thead>\n",
       "    <tr style=\"text-align: right;\">\n",
       "      <th></th>\n",
       "      <th>Crash_ID</th>\n",
       "      <th>Unit_Nbr</th>\n",
       "      <th>Prsn_Nbr</th>\n",
       "      <th>Charge_Cat_ID</th>\n",
       "      <th>Charge</th>\n",
       "      <th>Citation_Nbr</th>\n",
       "      <th>Crash_Fatal_Fl</th>\n",
       "      <th>Cmv_Involv_Fl</th>\n",
       "      <th>Schl_Bus_Fl</th>\n",
       "      <th>Rr_Relat_Fl</th>\n",
       "      <th>...</th>\n",
       "      <th>Poss_Injry_Cnt</th>\n",
       "      <th>Non_Injry_Cnt</th>\n",
       "      <th>Unkn_Injry_Cnt</th>\n",
       "      <th>Tot_Injry_Cnt</th>\n",
       "      <th>Death_Cnt</th>\n",
       "      <th>MPO_ID</th>\n",
       "      <th>Investigat_Service_ID</th>\n",
       "      <th>Investigat_DA_ID</th>\n",
       "      <th>Investigator_Narrative</th>\n",
       "      <th>Damaged_Property</th>\n",
       "    </tr>\n",
       "  </thead>\n",
       "  <tbody>\n",
       "    <tr>\n",
       "      <th>8240</th>\n",
       "      <td>15425782</td>\n",
       "      <td>NaN</td>\n",
       "      <td>NaN</td>\n",
       "      <td>NaN</td>\n",
       "      <td>NaN</td>\n",
       "      <td>NaN</td>\n",
       "      <td>N</td>\n",
       "      <td>N</td>\n",
       "      <td>N</td>\n",
       "      <td>N</td>\n",
       "      <td>...</td>\n",
       "      <td>1</td>\n",
       "      <td>1</td>\n",
       "      <td>0</td>\n",
       "      <td>1</td>\n",
       "      <td>0</td>\n",
       "      <td>90.0</td>\n",
       "      <td>35.0</td>\n",
       "      <td>NaN</td>\n",
       "      <td>NaN</td>\n",
       "      <td>NaN</td>\n",
       "    </tr>\n",
       "  </tbody>\n",
       "</table>\n",
       "<p>1 rows × 177 columns</p>\n",
       "</div>"
      ],
      "text/plain": [
       "      Crash_ID  Unit_Nbr  Prsn_Nbr  Charge_Cat_ID Charge Citation_Nbr  \\\n",
       "8240  15425782       NaN       NaN            NaN    NaN          NaN   \n",
       "\n",
       "     Crash_Fatal_Fl Cmv_Involv_Fl Schl_Bus_Fl Rr_Relat_Fl       ...         \\\n",
       "8240              N             N           N           N       ...          \n",
       "\n",
       "     Poss_Injry_Cnt Non_Injry_Cnt Unkn_Injry_Cnt Tot_Injry_Cnt Death_Cnt  \\\n",
       "8240              1             1              0             1         0   \n",
       "\n",
       "     MPO_ID Investigat_Service_ID  Investigat_DA_ID  Investigator_Narrative  \\\n",
       "8240   90.0                  35.0               NaN                     NaN   \n",
       "\n",
       "     Damaged_Property  \n",
       "8240              NaN  \n",
       "\n",
       "[1 rows x 177 columns]"
      ]
     },
     "execution_count": 95,
     "metadata": {},
     "output_type": "execute_result"
    }
   ],
   "source": [
    "join[join.Crash_ID == dup3[0]]"
   ]
  },
  {
   "cell_type": "code",
   "execution_count": null,
   "metadata": {
    "collapsed": true
   },
   "outputs": [],
   "source": []
  }
 ],
 "metadata": {
  "kernelspec": {
   "display_name": "Python 2",
   "language": "python",
   "name": "python2"
  },
  "language_info": {
   "codemirror_mode": {
    "name": "ipython",
    "version": 2
   },
   "file_extension": ".py",
   "mimetype": "text/x-python",
   "name": "python",
   "nbconvert_exporter": "python",
   "pygments_lexer": "ipython2",
   "version": "2.7.13"
  }
 },
 "nbformat": 4,
 "nbformat_minor": 2
}
